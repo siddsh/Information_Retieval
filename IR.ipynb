{
  "nbformat": 4,
  "nbformat_minor": 0,
  "metadata": {
    "colab": {
      "name": "IR.ipynb",
      "provenance": [],
      "authorship_tag": "ABX9TyM7kU1vCnJ8jbC+peEk3Yeh",
      "include_colab_link": true
    },
    "kernelspec": {
      "name": "python3",
      "display_name": "Python 3"
    },
    "accelerator": "GPU",
    "widgets": {
      "application/vnd.jupyter.widget-state+json": {
        "3a19bbce45234e86a7df7085af7b72c4": {
          "model_module": "@jupyter-widgets/controls",
          "model_name": "HBoxModel",
          "state": {
            "_view_name": "HBoxView",
            "_dom_classes": [],
            "_model_name": "HBoxModel",
            "_view_module": "@jupyter-widgets/controls",
            "_model_module_version": "1.5.0",
            "_view_count": null,
            "_view_module_version": "1.5.0",
            "box_style": "",
            "layout": "IPY_MODEL_002c1d032be14220ae02be3b9d4eb0b9",
            "_model_module": "@jupyter-widgets/controls",
            "children": [
              "IPY_MODEL_7a44bea79f354fea941da9cf505954a7",
              "IPY_MODEL_0950167662544db98a35c588d0f9172c"
            ]
          }
        },
        "002c1d032be14220ae02be3b9d4eb0b9": {
          "model_module": "@jupyter-widgets/base",
          "model_name": "LayoutModel",
          "state": {
            "_view_name": "LayoutView",
            "grid_template_rows": null,
            "right": null,
            "justify_content": null,
            "_view_module": "@jupyter-widgets/base",
            "overflow": null,
            "_model_module_version": "1.2.0",
            "_view_count": null,
            "flex_flow": null,
            "width": null,
            "min_width": null,
            "border": null,
            "align_items": null,
            "bottom": null,
            "_model_module": "@jupyter-widgets/base",
            "top": null,
            "grid_column": null,
            "overflow_y": null,
            "overflow_x": null,
            "grid_auto_flow": null,
            "grid_area": null,
            "grid_template_columns": null,
            "flex": null,
            "_model_name": "LayoutModel",
            "justify_items": null,
            "grid_row": null,
            "max_height": null,
            "align_content": null,
            "visibility": null,
            "align_self": null,
            "height": null,
            "min_height": null,
            "padding": null,
            "grid_auto_rows": null,
            "grid_gap": null,
            "max_width": null,
            "order": null,
            "_view_module_version": "1.2.0",
            "grid_template_areas": null,
            "object_position": null,
            "object_fit": null,
            "grid_auto_columns": null,
            "margin": null,
            "display": null,
            "left": null
          }
        },
        "7a44bea79f354fea941da9cf505954a7": {
          "model_module": "@jupyter-widgets/controls",
          "model_name": "FloatProgressModel",
          "state": {
            "_view_name": "ProgressView",
            "style": "IPY_MODEL_15c887fd6b274f08b91a2d48d2986637",
            "_dom_classes": [],
            "description": "Downloading: ",
            "_model_name": "FloatProgressModel",
            "bar_style": "success",
            "max": 1454,
            "_view_module": "@jupyter-widgets/controls",
            "_model_module_version": "1.5.0",
            "value": 1454,
            "_view_count": null,
            "_view_module_version": "1.5.0",
            "orientation": "horizontal",
            "min": 0,
            "description_tooltip": null,
            "_model_module": "@jupyter-widgets/controls",
            "layout": "IPY_MODEL_323f62fbcb924b22bda7b357bd0c106c"
          }
        },
        "0950167662544db98a35c588d0f9172c": {
          "model_module": "@jupyter-widgets/controls",
          "model_name": "HTMLModel",
          "state": {
            "_view_name": "HTMLView",
            "style": "IPY_MODEL_2767f528c0a448789b22a0cb3faf9129",
            "_dom_classes": [],
            "description": "",
            "_model_name": "HTMLModel",
            "placeholder": "​",
            "_view_module": "@jupyter-widgets/controls",
            "_model_module_version": "1.5.0",
            "value": " 3.51k/? [00:02&lt;00:00, 1.54kB/s]",
            "_view_count": null,
            "_view_module_version": "1.5.0",
            "description_tooltip": null,
            "_model_module": "@jupyter-widgets/controls",
            "layout": "IPY_MODEL_233f72debf2849a190f973cfdeb23559"
          }
        },
        "15c887fd6b274f08b91a2d48d2986637": {
          "model_module": "@jupyter-widgets/controls",
          "model_name": "ProgressStyleModel",
          "state": {
            "_view_name": "StyleView",
            "_model_name": "ProgressStyleModel",
            "description_width": "initial",
            "_view_module": "@jupyter-widgets/base",
            "_model_module_version": "1.5.0",
            "_view_count": null,
            "_view_module_version": "1.2.0",
            "bar_color": null,
            "_model_module": "@jupyter-widgets/controls"
          }
        },
        "323f62fbcb924b22bda7b357bd0c106c": {
          "model_module": "@jupyter-widgets/base",
          "model_name": "LayoutModel",
          "state": {
            "_view_name": "LayoutView",
            "grid_template_rows": null,
            "right": null,
            "justify_content": null,
            "_view_module": "@jupyter-widgets/base",
            "overflow": null,
            "_model_module_version": "1.2.0",
            "_view_count": null,
            "flex_flow": null,
            "width": null,
            "min_width": null,
            "border": null,
            "align_items": null,
            "bottom": null,
            "_model_module": "@jupyter-widgets/base",
            "top": null,
            "grid_column": null,
            "overflow_y": null,
            "overflow_x": null,
            "grid_auto_flow": null,
            "grid_area": null,
            "grid_template_columns": null,
            "flex": null,
            "_model_name": "LayoutModel",
            "justify_items": null,
            "grid_row": null,
            "max_height": null,
            "align_content": null,
            "visibility": null,
            "align_self": null,
            "height": null,
            "min_height": null,
            "padding": null,
            "grid_auto_rows": null,
            "grid_gap": null,
            "max_width": null,
            "order": null,
            "_view_module_version": "1.2.0",
            "grid_template_areas": null,
            "object_position": null,
            "object_fit": null,
            "grid_auto_columns": null,
            "margin": null,
            "display": null,
            "left": null
          }
        },
        "2767f528c0a448789b22a0cb3faf9129": {
          "model_module": "@jupyter-widgets/controls",
          "model_name": "DescriptionStyleModel",
          "state": {
            "_view_name": "StyleView",
            "_model_name": "DescriptionStyleModel",
            "description_width": "",
            "_view_module": "@jupyter-widgets/base",
            "_model_module_version": "1.5.0",
            "_view_count": null,
            "_view_module_version": "1.2.0",
            "_model_module": "@jupyter-widgets/controls"
          }
        },
        "233f72debf2849a190f973cfdeb23559": {
          "model_module": "@jupyter-widgets/base",
          "model_name": "LayoutModel",
          "state": {
            "_view_name": "LayoutView",
            "grid_template_rows": null,
            "right": null,
            "justify_content": null,
            "_view_module": "@jupyter-widgets/base",
            "overflow": null,
            "_model_module_version": "1.2.0",
            "_view_count": null,
            "flex_flow": null,
            "width": null,
            "min_width": null,
            "border": null,
            "align_items": null,
            "bottom": null,
            "_model_module": "@jupyter-widgets/base",
            "top": null,
            "grid_column": null,
            "overflow_y": null,
            "overflow_x": null,
            "grid_auto_flow": null,
            "grid_area": null,
            "grid_template_columns": null,
            "flex": null,
            "_model_name": "LayoutModel",
            "justify_items": null,
            "grid_row": null,
            "max_height": null,
            "align_content": null,
            "visibility": null,
            "align_self": null,
            "height": null,
            "min_height": null,
            "padding": null,
            "grid_auto_rows": null,
            "grid_gap": null,
            "max_width": null,
            "order": null,
            "_view_module_version": "1.2.0",
            "grid_template_areas": null,
            "object_position": null,
            "object_fit": null,
            "grid_auto_columns": null,
            "margin": null,
            "display": null,
            "left": null
          }
        },
        "7b72d7b9ae4342e3bb1f46638e500839": {
          "model_module": "@jupyter-widgets/controls",
          "model_name": "HBoxModel",
          "state": {
            "_view_name": "HBoxView",
            "_dom_classes": [],
            "_model_name": "HBoxModel",
            "_view_module": "@jupyter-widgets/controls",
            "_model_module_version": "1.5.0",
            "_view_count": null,
            "_view_module_version": "1.5.0",
            "box_style": "",
            "layout": "IPY_MODEL_4c38c23d185d4e228d9d12f1a40783db",
            "_model_module": "@jupyter-widgets/controls",
            "children": [
              "IPY_MODEL_6086b988df794747880f03c788d7100e",
              "IPY_MODEL_2ee693fffd764be791932ea1629b3bb4"
            ]
          }
        },
        "4c38c23d185d4e228d9d12f1a40783db": {
          "model_module": "@jupyter-widgets/base",
          "model_name": "LayoutModel",
          "state": {
            "_view_name": "LayoutView",
            "grid_template_rows": null,
            "right": null,
            "justify_content": null,
            "_view_module": "@jupyter-widgets/base",
            "overflow": null,
            "_model_module_version": "1.2.0",
            "_view_count": null,
            "flex_flow": null,
            "width": null,
            "min_width": null,
            "border": null,
            "align_items": null,
            "bottom": null,
            "_model_module": "@jupyter-widgets/base",
            "top": null,
            "grid_column": null,
            "overflow_y": null,
            "overflow_x": null,
            "grid_auto_flow": null,
            "grid_area": null,
            "grid_template_columns": null,
            "flex": null,
            "_model_name": "LayoutModel",
            "justify_items": null,
            "grid_row": null,
            "max_height": null,
            "align_content": null,
            "visibility": null,
            "align_self": null,
            "height": null,
            "min_height": null,
            "padding": null,
            "grid_auto_rows": null,
            "grid_gap": null,
            "max_width": null,
            "order": null,
            "_view_module_version": "1.2.0",
            "grid_template_areas": null,
            "object_position": null,
            "object_fit": null,
            "grid_auto_columns": null,
            "margin": null,
            "display": null,
            "left": null
          }
        },
        "6086b988df794747880f03c788d7100e": {
          "model_module": "@jupyter-widgets/controls",
          "model_name": "FloatProgressModel",
          "state": {
            "_view_name": "ProgressView",
            "style": "IPY_MODEL_d9ef51525ef0457db8961331442092b1",
            "_dom_classes": [],
            "description": "Downloading: ",
            "_model_name": "FloatProgressModel",
            "bar_style": "success",
            "max": 749,
            "_view_module": "@jupyter-widgets/controls",
            "_model_module_version": "1.5.0",
            "value": 749,
            "_view_count": null,
            "_view_module_version": "1.5.0",
            "orientation": "horizontal",
            "min": 0,
            "description_tooltip": null,
            "_model_module": "@jupyter-widgets/controls",
            "layout": "IPY_MODEL_7edcb736d796469990e90b02b4e58cd0"
          }
        },
        "2ee693fffd764be791932ea1629b3bb4": {
          "model_module": "@jupyter-widgets/controls",
          "model_name": "HTMLModel",
          "state": {
            "_view_name": "HTMLView",
            "style": "IPY_MODEL_482868dc8b9d43d082ee17e66bc31864",
            "_dom_classes": [],
            "description": "",
            "_model_name": "HTMLModel",
            "placeholder": "​",
            "_view_module": "@jupyter-widgets/controls",
            "_model_module_version": "1.5.0",
            "value": " 1.54k/? [00:01&lt;00:00, 778B/s]",
            "_view_count": null,
            "_view_module_version": "1.5.0",
            "description_tooltip": null,
            "_model_module": "@jupyter-widgets/controls",
            "layout": "IPY_MODEL_b377d4f99e344fca9f99a6e6a81c81be"
          }
        },
        "d9ef51525ef0457db8961331442092b1": {
          "model_module": "@jupyter-widgets/controls",
          "model_name": "ProgressStyleModel",
          "state": {
            "_view_name": "StyleView",
            "_model_name": "ProgressStyleModel",
            "description_width": "initial",
            "_view_module": "@jupyter-widgets/base",
            "_model_module_version": "1.5.0",
            "_view_count": null,
            "_view_module_version": "1.2.0",
            "bar_color": null,
            "_model_module": "@jupyter-widgets/controls"
          }
        },
        "7edcb736d796469990e90b02b4e58cd0": {
          "model_module": "@jupyter-widgets/base",
          "model_name": "LayoutModel",
          "state": {
            "_view_name": "LayoutView",
            "grid_template_rows": null,
            "right": null,
            "justify_content": null,
            "_view_module": "@jupyter-widgets/base",
            "overflow": null,
            "_model_module_version": "1.2.0",
            "_view_count": null,
            "flex_flow": null,
            "width": null,
            "min_width": null,
            "border": null,
            "align_items": null,
            "bottom": null,
            "_model_module": "@jupyter-widgets/base",
            "top": null,
            "grid_column": null,
            "overflow_y": null,
            "overflow_x": null,
            "grid_auto_flow": null,
            "grid_area": null,
            "grid_template_columns": null,
            "flex": null,
            "_model_name": "LayoutModel",
            "justify_items": null,
            "grid_row": null,
            "max_height": null,
            "align_content": null,
            "visibility": null,
            "align_self": null,
            "height": null,
            "min_height": null,
            "padding": null,
            "grid_auto_rows": null,
            "grid_gap": null,
            "max_width": null,
            "order": null,
            "_view_module_version": "1.2.0",
            "grid_template_areas": null,
            "object_position": null,
            "object_fit": null,
            "grid_auto_columns": null,
            "margin": null,
            "display": null,
            "left": null
          }
        },
        "482868dc8b9d43d082ee17e66bc31864": {
          "model_module": "@jupyter-widgets/controls",
          "model_name": "DescriptionStyleModel",
          "state": {
            "_view_name": "StyleView",
            "_model_name": "DescriptionStyleModel",
            "description_width": "",
            "_view_module": "@jupyter-widgets/base",
            "_model_module_version": "1.5.0",
            "_view_count": null,
            "_view_module_version": "1.2.0",
            "_model_module": "@jupyter-widgets/controls"
          }
        },
        "b377d4f99e344fca9f99a6e6a81c81be": {
          "model_module": "@jupyter-widgets/base",
          "model_name": "LayoutModel",
          "state": {
            "_view_name": "LayoutView",
            "grid_template_rows": null,
            "right": null,
            "justify_content": null,
            "_view_module": "@jupyter-widgets/base",
            "overflow": null,
            "_model_module_version": "1.2.0",
            "_view_count": null,
            "flex_flow": null,
            "width": null,
            "min_width": null,
            "border": null,
            "align_items": null,
            "bottom": null,
            "_model_module": "@jupyter-widgets/base",
            "top": null,
            "grid_column": null,
            "overflow_y": null,
            "overflow_x": null,
            "grid_auto_flow": null,
            "grid_area": null,
            "grid_template_columns": null,
            "flex": null,
            "_model_name": "LayoutModel",
            "justify_items": null,
            "grid_row": null,
            "max_height": null,
            "align_content": null,
            "visibility": null,
            "align_self": null,
            "height": null,
            "min_height": null,
            "padding": null,
            "grid_auto_rows": null,
            "grid_gap": null,
            "max_width": null,
            "order": null,
            "_view_module_version": "1.2.0",
            "grid_template_areas": null,
            "object_position": null,
            "object_fit": null,
            "grid_auto_columns": null,
            "margin": null,
            "display": null,
            "left": null
          }
        },
        "6e659c23a576421094bd8d9421732801": {
          "model_module": "@jupyter-widgets/controls",
          "model_name": "HBoxModel",
          "state": {
            "_view_name": "HBoxView",
            "_dom_classes": [],
            "_model_name": "HBoxModel",
            "_view_module": "@jupyter-widgets/controls",
            "_model_module_version": "1.5.0",
            "_view_count": null,
            "_view_module_version": "1.5.0",
            "box_style": "",
            "layout": "IPY_MODEL_8b2de4721ae142fd800675cfb6abb69f",
            "_model_module": "@jupyter-widgets/controls",
            "children": [
              "IPY_MODEL_0527a7e9eb904e56aec819c7095f86b5",
              "IPY_MODEL_3d65ae96a8224161b2ab51f72c806212"
            ]
          }
        },
        "8b2de4721ae142fd800675cfb6abb69f": {
          "model_module": "@jupyter-widgets/base",
          "model_name": "LayoutModel",
          "state": {
            "_view_name": "LayoutView",
            "grid_template_rows": null,
            "right": null,
            "justify_content": null,
            "_view_module": "@jupyter-widgets/base",
            "overflow": null,
            "_model_module_version": "1.2.0",
            "_view_count": null,
            "flex_flow": null,
            "width": null,
            "min_width": null,
            "border": null,
            "align_items": null,
            "bottom": null,
            "_model_module": "@jupyter-widgets/base",
            "top": null,
            "grid_column": null,
            "overflow_y": null,
            "overflow_x": null,
            "grid_auto_flow": null,
            "grid_area": null,
            "grid_template_columns": null,
            "flex": null,
            "_model_name": "LayoutModel",
            "justify_items": null,
            "grid_row": null,
            "max_height": null,
            "align_content": null,
            "visibility": null,
            "align_self": null,
            "height": null,
            "min_height": null,
            "padding": null,
            "grid_auto_rows": null,
            "grid_gap": null,
            "max_width": null,
            "order": null,
            "_view_module_version": "1.2.0",
            "grid_template_areas": null,
            "object_position": null,
            "object_fit": null,
            "grid_auto_columns": null,
            "margin": null,
            "display": null,
            "left": null
          }
        },
        "0527a7e9eb904e56aec819c7095f86b5": {
          "model_module": "@jupyter-widgets/controls",
          "model_name": "FloatProgressModel",
          "state": {
            "_view_name": "ProgressView",
            "style": "IPY_MODEL_4da42d47cd5248eaad5b154bf54df345",
            "_dom_classes": [],
            "description": "Downloading: ",
            "_model_name": "FloatProgressModel",
            "bar_style": "success",
            "max": 1,
            "_view_module": "@jupyter-widgets/controls",
            "_model_module_version": "1.5.0",
            "value": 1,
            "_view_count": null,
            "_view_module_version": "1.5.0",
            "orientation": "horizontal",
            "min": 0,
            "description_tooltip": null,
            "_model_module": "@jupyter-widgets/controls",
            "layout": "IPY_MODEL_910aa42df28549818fa525260c80a1e2"
          }
        },
        "3d65ae96a8224161b2ab51f72c806212": {
          "model_module": "@jupyter-widgets/controls",
          "model_name": "HTMLModel",
          "state": {
            "_view_name": "HTMLView",
            "style": "IPY_MODEL_e504d2381e064703b56d4ca050448ded",
            "_dom_classes": [],
            "description": "",
            "_model_name": "HTMLModel",
            "placeholder": "​",
            "_view_module": "@jupyter-widgets/controls",
            "_model_module_version": "1.5.0",
            "value": " 11.6M/? [00:01&lt;00:00, 9.63MB/s]",
            "_view_count": null,
            "_view_module_version": "1.5.0",
            "description_tooltip": null,
            "_model_module": "@jupyter-widgets/controls",
            "layout": "IPY_MODEL_21ee84132d6e4207a963f824b84ec601"
          }
        },
        "4da42d47cd5248eaad5b154bf54df345": {
          "model_module": "@jupyter-widgets/controls",
          "model_name": "ProgressStyleModel",
          "state": {
            "_view_name": "StyleView",
            "_model_name": "ProgressStyleModel",
            "description_width": "initial",
            "_view_module": "@jupyter-widgets/base",
            "_model_module_version": "1.5.0",
            "_view_count": null,
            "_view_module_version": "1.2.0",
            "bar_color": null,
            "_model_module": "@jupyter-widgets/controls"
          }
        },
        "910aa42df28549818fa525260c80a1e2": {
          "model_module": "@jupyter-widgets/base",
          "model_name": "LayoutModel",
          "state": {
            "_view_name": "LayoutView",
            "grid_template_rows": null,
            "right": null,
            "justify_content": null,
            "_view_module": "@jupyter-widgets/base",
            "overflow": null,
            "_model_module_version": "1.2.0",
            "_view_count": null,
            "flex_flow": null,
            "width": null,
            "min_width": null,
            "border": null,
            "align_items": null,
            "bottom": null,
            "_model_module": "@jupyter-widgets/base",
            "top": null,
            "grid_column": null,
            "overflow_y": null,
            "overflow_x": null,
            "grid_auto_flow": null,
            "grid_area": null,
            "grid_template_columns": null,
            "flex": null,
            "_model_name": "LayoutModel",
            "justify_items": null,
            "grid_row": null,
            "max_height": null,
            "align_content": null,
            "visibility": null,
            "align_self": null,
            "height": null,
            "min_height": null,
            "padding": null,
            "grid_auto_rows": null,
            "grid_gap": null,
            "max_width": null,
            "order": null,
            "_view_module_version": "1.2.0",
            "grid_template_areas": null,
            "object_position": null,
            "object_fit": null,
            "grid_auto_columns": null,
            "margin": null,
            "display": null,
            "left": null
          }
        },
        "e504d2381e064703b56d4ca050448ded": {
          "model_module": "@jupyter-widgets/controls",
          "model_name": "DescriptionStyleModel",
          "state": {
            "_view_name": "StyleView",
            "_model_name": "DescriptionStyleModel",
            "description_width": "",
            "_view_module": "@jupyter-widgets/base",
            "_model_module_version": "1.5.0",
            "_view_count": null,
            "_view_module_version": "1.2.0",
            "_model_module": "@jupyter-widgets/controls"
          }
        },
        "21ee84132d6e4207a963f824b84ec601": {
          "model_module": "@jupyter-widgets/base",
          "model_name": "LayoutModel",
          "state": {
            "_view_name": "LayoutView",
            "grid_template_rows": null,
            "right": null,
            "justify_content": null,
            "_view_module": "@jupyter-widgets/base",
            "overflow": null,
            "_model_module_version": "1.2.0",
            "_view_count": null,
            "flex_flow": null,
            "width": null,
            "min_width": null,
            "border": null,
            "align_items": null,
            "bottom": null,
            "_model_module": "@jupyter-widgets/base",
            "top": null,
            "grid_column": null,
            "overflow_y": null,
            "overflow_x": null,
            "grid_auto_flow": null,
            "grid_area": null,
            "grid_template_columns": null,
            "flex": null,
            "_model_name": "LayoutModel",
            "justify_items": null,
            "grid_row": null,
            "max_height": null,
            "align_content": null,
            "visibility": null,
            "align_self": null,
            "height": null,
            "min_height": null,
            "padding": null,
            "grid_auto_rows": null,
            "grid_gap": null,
            "max_width": null,
            "order": null,
            "_view_module_version": "1.2.0",
            "grid_template_areas": null,
            "object_position": null,
            "object_fit": null,
            "grid_auto_columns": null,
            "margin": null,
            "display": null,
            "left": null
          }
        },
        "319222d8b2e942cd91421a6f81742302": {
          "model_module": "@jupyter-widgets/controls",
          "model_name": "HBoxModel",
          "state": {
            "_view_name": "HBoxView",
            "_dom_classes": [],
            "_model_name": "HBoxModel",
            "_view_module": "@jupyter-widgets/controls",
            "_model_module_version": "1.5.0",
            "_view_count": null,
            "_view_module_version": "1.5.0",
            "box_style": "",
            "layout": "IPY_MODEL_e8790c28c4c0421b81ead010c3ed9d97",
            "_model_module": "@jupyter-widgets/controls",
            "children": [
              "IPY_MODEL_e0c2708b1ed543cc8c1dec5b26576a97",
              "IPY_MODEL_176b5a3980fa43cdabf0890d52febc7b"
            ]
          }
        },
        "e8790c28c4c0421b81ead010c3ed9d97": {
          "model_module": "@jupyter-widgets/base",
          "model_name": "LayoutModel",
          "state": {
            "_view_name": "LayoutView",
            "grid_template_rows": null,
            "right": null,
            "justify_content": null,
            "_view_module": "@jupyter-widgets/base",
            "overflow": null,
            "_model_module_version": "1.2.0",
            "_view_count": null,
            "flex_flow": null,
            "width": null,
            "min_width": null,
            "border": null,
            "align_items": null,
            "bottom": null,
            "_model_module": "@jupyter-widgets/base",
            "top": null,
            "grid_column": null,
            "overflow_y": null,
            "overflow_x": null,
            "grid_auto_flow": null,
            "grid_area": null,
            "grid_template_columns": null,
            "flex": null,
            "_model_name": "LayoutModel",
            "justify_items": null,
            "grid_row": null,
            "max_height": null,
            "align_content": null,
            "visibility": null,
            "align_self": null,
            "height": null,
            "min_height": null,
            "padding": null,
            "grid_auto_rows": null,
            "grid_gap": null,
            "max_width": null,
            "order": null,
            "_view_module_version": "1.2.0",
            "grid_template_areas": null,
            "object_position": null,
            "object_fit": null,
            "grid_auto_columns": null,
            "margin": null,
            "display": null,
            "left": null
          }
        },
        "e0c2708b1ed543cc8c1dec5b26576a97": {
          "model_module": "@jupyter-widgets/controls",
          "model_name": "FloatProgressModel",
          "state": {
            "_view_name": "ProgressView",
            "style": "IPY_MODEL_189326b8cb974dbe9888da41b1594f37",
            "_dom_classes": [],
            "description": "",
            "_model_name": "FloatProgressModel",
            "bar_style": "info",
            "max": 1,
            "_view_module": "@jupyter-widgets/controls",
            "_model_module_version": "1.5.0",
            "value": 1,
            "_view_count": null,
            "_view_module_version": "1.5.0",
            "orientation": "horizontal",
            "min": 0,
            "description_tooltip": null,
            "_model_module": "@jupyter-widgets/controls",
            "layout": "IPY_MODEL_9f3f4f2cca6343e78fd7ebf32b926779"
          }
        },
        "176b5a3980fa43cdabf0890d52febc7b": {
          "model_module": "@jupyter-widgets/controls",
          "model_name": "HTMLModel",
          "state": {
            "_view_name": "HTMLView",
            "style": "IPY_MODEL_07b85ded4cbb4b668d76f9e581f438c2",
            "_dom_classes": [],
            "description": "",
            "_model_name": "HTMLModel",
            "placeholder": "​",
            "_view_module": "@jupyter-widgets/controls",
            "_model_module_version": "1.5.0",
            "value": " 14436/0 [00:00&lt;00:00, 11826.88 examples/s]",
            "_view_count": null,
            "_view_module_version": "1.5.0",
            "description_tooltip": null,
            "_model_module": "@jupyter-widgets/controls",
            "layout": "IPY_MODEL_bca51846ecf545e1838eb263f9d72d0f"
          }
        },
        "189326b8cb974dbe9888da41b1594f37": {
          "model_module": "@jupyter-widgets/controls",
          "model_name": "ProgressStyleModel",
          "state": {
            "_view_name": "StyleView",
            "_model_name": "ProgressStyleModel",
            "description_width": "initial",
            "_view_module": "@jupyter-widgets/base",
            "_model_module_version": "1.5.0",
            "_view_count": null,
            "_view_module_version": "1.2.0",
            "bar_color": null,
            "_model_module": "@jupyter-widgets/controls"
          }
        },
        "9f3f4f2cca6343e78fd7ebf32b926779": {
          "model_module": "@jupyter-widgets/base",
          "model_name": "LayoutModel",
          "state": {
            "_view_name": "LayoutView",
            "grid_template_rows": null,
            "right": null,
            "justify_content": null,
            "_view_module": "@jupyter-widgets/base",
            "overflow": null,
            "_model_module_version": "1.2.0",
            "_view_count": null,
            "flex_flow": null,
            "width": null,
            "min_width": null,
            "border": null,
            "align_items": null,
            "bottom": null,
            "_model_module": "@jupyter-widgets/base",
            "top": null,
            "grid_column": null,
            "overflow_y": null,
            "overflow_x": null,
            "grid_auto_flow": null,
            "grid_area": null,
            "grid_template_columns": null,
            "flex": null,
            "_model_name": "LayoutModel",
            "justify_items": null,
            "grid_row": null,
            "max_height": null,
            "align_content": null,
            "visibility": null,
            "align_self": null,
            "height": null,
            "min_height": null,
            "padding": null,
            "grid_auto_rows": null,
            "grid_gap": null,
            "max_width": null,
            "order": null,
            "_view_module_version": "1.2.0",
            "grid_template_areas": null,
            "object_position": null,
            "object_fit": null,
            "grid_auto_columns": null,
            "margin": null,
            "display": null,
            "left": null
          }
        },
        "07b85ded4cbb4b668d76f9e581f438c2": {
          "model_module": "@jupyter-widgets/controls",
          "model_name": "DescriptionStyleModel",
          "state": {
            "_view_name": "StyleView",
            "_model_name": "DescriptionStyleModel",
            "description_width": "",
            "_view_module": "@jupyter-widgets/base",
            "_model_module_version": "1.5.0",
            "_view_count": null,
            "_view_module_version": "1.2.0",
            "_model_module": "@jupyter-widgets/controls"
          }
        },
        "bca51846ecf545e1838eb263f9d72d0f": {
          "model_module": "@jupyter-widgets/base",
          "model_name": "LayoutModel",
          "state": {
            "_view_name": "LayoutView",
            "grid_template_rows": null,
            "right": null,
            "justify_content": null,
            "_view_module": "@jupyter-widgets/base",
            "overflow": null,
            "_model_module_version": "1.2.0",
            "_view_count": null,
            "flex_flow": null,
            "width": null,
            "min_width": null,
            "border": null,
            "align_items": null,
            "bottom": null,
            "_model_module": "@jupyter-widgets/base",
            "top": null,
            "grid_column": null,
            "overflow_y": null,
            "overflow_x": null,
            "grid_auto_flow": null,
            "grid_area": null,
            "grid_template_columns": null,
            "flex": null,
            "_model_name": "LayoutModel",
            "justify_items": null,
            "grid_row": null,
            "max_height": null,
            "align_content": null,
            "visibility": null,
            "align_self": null,
            "height": null,
            "min_height": null,
            "padding": null,
            "grid_auto_rows": null,
            "grid_gap": null,
            "max_width": null,
            "order": null,
            "_view_module_version": "1.2.0",
            "grid_template_areas": null,
            "object_position": null,
            "object_fit": null,
            "grid_auto_columns": null,
            "margin": null,
            "display": null,
            "left": null
          }
        },
        "79b2d2c7142b485594aae7ec7be78182": {
          "model_module": "@jupyter-widgets/controls",
          "model_name": "HBoxModel",
          "state": {
            "_view_name": "HBoxView",
            "_dom_classes": [],
            "_model_name": "HBoxModel",
            "_view_module": "@jupyter-widgets/controls",
            "_model_module_version": "1.5.0",
            "_view_count": null,
            "_view_module_version": "1.5.0",
            "box_style": "",
            "layout": "IPY_MODEL_47b753ac89ab428d9ee06d55456a87c2",
            "_model_module": "@jupyter-widgets/controls",
            "children": [
              "IPY_MODEL_2efa09bbc9ac49388e7c99045d705605",
              "IPY_MODEL_b7053ab662e9428b966163e2a067c44b"
            ]
          }
        },
        "47b753ac89ab428d9ee06d55456a87c2": {
          "model_module": "@jupyter-widgets/base",
          "model_name": "LayoutModel",
          "state": {
            "_view_name": "LayoutView",
            "grid_template_rows": null,
            "right": null,
            "justify_content": null,
            "_view_module": "@jupyter-widgets/base",
            "overflow": null,
            "_model_module_version": "1.2.0",
            "_view_count": null,
            "flex_flow": null,
            "width": null,
            "min_width": null,
            "border": null,
            "align_items": null,
            "bottom": null,
            "_model_module": "@jupyter-widgets/base",
            "top": null,
            "grid_column": null,
            "overflow_y": null,
            "overflow_x": null,
            "grid_auto_flow": null,
            "grid_area": null,
            "grid_template_columns": null,
            "flex": null,
            "_model_name": "LayoutModel",
            "justify_items": null,
            "grid_row": null,
            "max_height": null,
            "align_content": null,
            "visibility": null,
            "align_self": null,
            "height": null,
            "min_height": null,
            "padding": null,
            "grid_auto_rows": null,
            "grid_gap": null,
            "max_width": null,
            "order": null,
            "_view_module_version": "1.2.0",
            "grid_template_areas": null,
            "object_position": null,
            "object_fit": null,
            "grid_auto_columns": null,
            "margin": null,
            "display": null,
            "left": null
          }
        },
        "2efa09bbc9ac49388e7c99045d705605": {
          "model_module": "@jupyter-widgets/controls",
          "model_name": "FloatProgressModel",
          "state": {
            "_view_name": "ProgressView",
            "style": "IPY_MODEL_8259f5c797bd4d3e80df2638e93f39ed",
            "_dom_classes": [],
            "description": "",
            "_model_name": "FloatProgressModel",
            "bar_style": "info",
            "max": 1,
            "_view_module": "@jupyter-widgets/controls",
            "_model_module_version": "1.5.0",
            "value": 1,
            "_view_count": null,
            "_view_module_version": "1.5.0",
            "orientation": "horizontal",
            "min": 0,
            "description_tooltip": null,
            "_model_module": "@jupyter-widgets/controls",
            "layout": "IPY_MODEL_a2e9b39e2e744ca0bb15b2336be16e35"
          }
        },
        "b7053ab662e9428b966163e2a067c44b": {
          "model_module": "@jupyter-widgets/controls",
          "model_name": "HTMLModel",
          "state": {
            "_view_name": "HTMLView",
            "style": "IPY_MODEL_e03db37cd77a417bb7781ddcfd7f9a34",
            "_dom_classes": [],
            "description": "",
            "_model_name": "HTMLModel",
            "placeholder": "​",
            "_view_module": "@jupyter-widgets/controls",
            "_model_module_version": "1.5.0",
            "value": " 1960/0 [00:00&lt;00:00, 12698.83 examples/s]",
            "_view_count": null,
            "_view_module_version": "1.5.0",
            "description_tooltip": null,
            "_model_module": "@jupyter-widgets/controls",
            "layout": "IPY_MODEL_dfdd8836729744ecb2cbe7098ad84cb5"
          }
        },
        "8259f5c797bd4d3e80df2638e93f39ed": {
          "model_module": "@jupyter-widgets/controls",
          "model_name": "ProgressStyleModel",
          "state": {
            "_view_name": "StyleView",
            "_model_name": "ProgressStyleModel",
            "description_width": "initial",
            "_view_module": "@jupyter-widgets/base",
            "_model_module_version": "1.5.0",
            "_view_count": null,
            "_view_module_version": "1.2.0",
            "bar_color": null,
            "_model_module": "@jupyter-widgets/controls"
          }
        },
        "a2e9b39e2e744ca0bb15b2336be16e35": {
          "model_module": "@jupyter-widgets/base",
          "model_name": "LayoutModel",
          "state": {
            "_view_name": "LayoutView",
            "grid_template_rows": null,
            "right": null,
            "justify_content": null,
            "_view_module": "@jupyter-widgets/base",
            "overflow": null,
            "_model_module_version": "1.2.0",
            "_view_count": null,
            "flex_flow": null,
            "width": null,
            "min_width": null,
            "border": null,
            "align_items": null,
            "bottom": null,
            "_model_module": "@jupyter-widgets/base",
            "top": null,
            "grid_column": null,
            "overflow_y": null,
            "overflow_x": null,
            "grid_auto_flow": null,
            "grid_area": null,
            "grid_template_columns": null,
            "flex": null,
            "_model_name": "LayoutModel",
            "justify_items": null,
            "grid_row": null,
            "max_height": null,
            "align_content": null,
            "visibility": null,
            "align_self": null,
            "height": null,
            "min_height": null,
            "padding": null,
            "grid_auto_rows": null,
            "grid_gap": null,
            "max_width": null,
            "order": null,
            "_view_module_version": "1.2.0",
            "grid_template_areas": null,
            "object_position": null,
            "object_fit": null,
            "grid_auto_columns": null,
            "margin": null,
            "display": null,
            "left": null
          }
        },
        "e03db37cd77a417bb7781ddcfd7f9a34": {
          "model_module": "@jupyter-widgets/controls",
          "model_name": "DescriptionStyleModel",
          "state": {
            "_view_name": "StyleView",
            "_model_name": "DescriptionStyleModel",
            "description_width": "",
            "_view_module": "@jupyter-widgets/base",
            "_model_module_version": "1.5.0",
            "_view_count": null,
            "_view_module_version": "1.2.0",
            "_model_module": "@jupyter-widgets/controls"
          }
        },
        "dfdd8836729744ecb2cbe7098ad84cb5": {
          "model_module": "@jupyter-widgets/base",
          "model_name": "LayoutModel",
          "state": {
            "_view_name": "LayoutView",
            "grid_template_rows": null,
            "right": null,
            "justify_content": null,
            "_view_module": "@jupyter-widgets/base",
            "overflow": null,
            "_model_module_version": "1.2.0",
            "_view_count": null,
            "flex_flow": null,
            "width": null,
            "min_width": null,
            "border": null,
            "align_items": null,
            "bottom": null,
            "_model_module": "@jupyter-widgets/base",
            "top": null,
            "grid_column": null,
            "overflow_y": null,
            "overflow_x": null,
            "grid_auto_flow": null,
            "grid_area": null,
            "grid_template_columns": null,
            "flex": null,
            "_model_name": "LayoutModel",
            "justify_items": null,
            "grid_row": null,
            "max_height": null,
            "align_content": null,
            "visibility": null,
            "align_self": null,
            "height": null,
            "min_height": null,
            "padding": null,
            "grid_auto_rows": null,
            "grid_gap": null,
            "max_width": null,
            "order": null,
            "_view_module_version": "1.2.0",
            "grid_template_areas": null,
            "object_position": null,
            "object_fit": null,
            "grid_auto_columns": null,
            "margin": null,
            "display": null,
            "left": null
          }
        },
        "5241d653ebf843c8b944eac39940adef": {
          "model_module": "@jupyter-widgets/controls",
          "model_name": "HBoxModel",
          "state": {
            "_view_name": "HBoxView",
            "_dom_classes": [],
            "_model_name": "HBoxModel",
            "_view_module": "@jupyter-widgets/controls",
            "_model_module_version": "1.5.0",
            "_view_count": null,
            "_view_module_version": "1.5.0",
            "box_style": "",
            "layout": "IPY_MODEL_c0b6290e72144b5b81beb004f72b42fa",
            "_model_module": "@jupyter-widgets/controls",
            "children": [
              "IPY_MODEL_7dc00462157e48ccab0286cb72970086",
              "IPY_MODEL_92bfe13c1c6847c9a52d554df56a5737"
            ]
          }
        },
        "c0b6290e72144b5b81beb004f72b42fa": {
          "model_module": "@jupyter-widgets/base",
          "model_name": "LayoutModel",
          "state": {
            "_view_name": "LayoutView",
            "grid_template_rows": null,
            "right": null,
            "justify_content": null,
            "_view_module": "@jupyter-widgets/base",
            "overflow": null,
            "_model_module_version": "1.2.0",
            "_view_count": null,
            "flex_flow": null,
            "width": null,
            "min_width": null,
            "border": null,
            "align_items": null,
            "bottom": null,
            "_model_module": "@jupyter-widgets/base",
            "top": null,
            "grid_column": null,
            "overflow_y": null,
            "overflow_x": null,
            "grid_auto_flow": null,
            "grid_area": null,
            "grid_template_columns": null,
            "flex": null,
            "_model_name": "LayoutModel",
            "justify_items": null,
            "grid_row": null,
            "max_height": null,
            "align_content": null,
            "visibility": null,
            "align_self": null,
            "height": null,
            "min_height": null,
            "padding": null,
            "grid_auto_rows": null,
            "grid_gap": null,
            "max_width": null,
            "order": null,
            "_view_module_version": "1.2.0",
            "grid_template_areas": null,
            "object_position": null,
            "object_fit": null,
            "grid_auto_columns": null,
            "margin": null,
            "display": null,
            "left": null
          }
        },
        "7dc00462157e48ccab0286cb72970086": {
          "model_module": "@jupyter-widgets/controls",
          "model_name": "FloatProgressModel",
          "state": {
            "_view_name": "ProgressView",
            "style": "IPY_MODEL_c431f0ff434c4fcca92588e96c01d8c0",
            "_dom_classes": [],
            "description": "",
            "_model_name": "FloatProgressModel",
            "bar_style": "info",
            "max": 1,
            "_view_module": "@jupyter-widgets/controls",
            "_model_module_version": "1.5.0",
            "value": 1,
            "_view_count": null,
            "_view_module_version": "1.5.0",
            "orientation": "horizontal",
            "min": 0,
            "description_tooltip": null,
            "_model_module": "@jupyter-widgets/controls",
            "layout": "IPY_MODEL_0aab6e5ffe074bc894cca1d9a8e34b76"
          }
        },
        "92bfe13c1c6847c9a52d554df56a5737": {
          "model_module": "@jupyter-widgets/controls",
          "model_name": "HTMLModel",
          "state": {
            "_view_name": "HTMLView",
            "style": "IPY_MODEL_b5cf565aa43446fea2656b71bf179c96",
            "_dom_classes": [],
            "description": "",
            "_model_name": "HTMLModel",
            "placeholder": "​",
            "_view_module": "@jupyter-widgets/controls",
            "_model_module_version": "1.5.0",
            "value": " 1906/0 [00:00&lt;00:00, 12369.30 examples/s]",
            "_view_count": null,
            "_view_module_version": "1.5.0",
            "description_tooltip": null,
            "_model_module": "@jupyter-widgets/controls",
            "layout": "IPY_MODEL_0f420ead3ee94f3c8815cf9ad6841a00"
          }
        },
        "c431f0ff434c4fcca92588e96c01d8c0": {
          "model_module": "@jupyter-widgets/controls",
          "model_name": "ProgressStyleModel",
          "state": {
            "_view_name": "StyleView",
            "_model_name": "ProgressStyleModel",
            "description_width": "initial",
            "_view_module": "@jupyter-widgets/base",
            "_model_module_version": "1.5.0",
            "_view_count": null,
            "_view_module_version": "1.2.0",
            "bar_color": null,
            "_model_module": "@jupyter-widgets/controls"
          }
        },
        "0aab6e5ffe074bc894cca1d9a8e34b76": {
          "model_module": "@jupyter-widgets/base",
          "model_name": "LayoutModel",
          "state": {
            "_view_name": "LayoutView",
            "grid_template_rows": null,
            "right": null,
            "justify_content": null,
            "_view_module": "@jupyter-widgets/base",
            "overflow": null,
            "_model_module_version": "1.2.0",
            "_view_count": null,
            "flex_flow": null,
            "width": null,
            "min_width": null,
            "border": null,
            "align_items": null,
            "bottom": null,
            "_model_module": "@jupyter-widgets/base",
            "top": null,
            "grid_column": null,
            "overflow_y": null,
            "overflow_x": null,
            "grid_auto_flow": null,
            "grid_area": null,
            "grid_template_columns": null,
            "flex": null,
            "_model_name": "LayoutModel",
            "justify_items": null,
            "grid_row": null,
            "max_height": null,
            "align_content": null,
            "visibility": null,
            "align_self": null,
            "height": null,
            "min_height": null,
            "padding": null,
            "grid_auto_rows": null,
            "grid_gap": null,
            "max_width": null,
            "order": null,
            "_view_module_version": "1.2.0",
            "grid_template_areas": null,
            "object_position": null,
            "object_fit": null,
            "grid_auto_columns": null,
            "margin": null,
            "display": null,
            "left": null
          }
        },
        "b5cf565aa43446fea2656b71bf179c96": {
          "model_module": "@jupyter-widgets/controls",
          "model_name": "DescriptionStyleModel",
          "state": {
            "_view_name": "StyleView",
            "_model_name": "DescriptionStyleModel",
            "description_width": "",
            "_view_module": "@jupyter-widgets/base",
            "_model_module_version": "1.5.0",
            "_view_count": null,
            "_view_module_version": "1.2.0",
            "_model_module": "@jupyter-widgets/controls"
          }
        },
        "0f420ead3ee94f3c8815cf9ad6841a00": {
          "model_module": "@jupyter-widgets/base",
          "model_name": "LayoutModel",
          "state": {
            "_view_name": "LayoutView",
            "grid_template_rows": null,
            "right": null,
            "justify_content": null,
            "_view_module": "@jupyter-widgets/base",
            "overflow": null,
            "_model_module_version": "1.2.0",
            "_view_count": null,
            "flex_flow": null,
            "width": null,
            "min_width": null,
            "border": null,
            "align_items": null,
            "bottom": null,
            "_model_module": "@jupyter-widgets/base",
            "top": null,
            "grid_column": null,
            "overflow_y": null,
            "overflow_x": null,
            "grid_auto_flow": null,
            "grid_area": null,
            "grid_template_columns": null,
            "flex": null,
            "_model_name": "LayoutModel",
            "justify_items": null,
            "grid_row": null,
            "max_height": null,
            "align_content": null,
            "visibility": null,
            "align_self": null,
            "height": null,
            "min_height": null,
            "padding": null,
            "grid_auto_rows": null,
            "grid_gap": null,
            "max_width": null,
            "order": null,
            "_view_module_version": "1.2.0",
            "grid_template_areas": null,
            "object_position": null,
            "object_fit": null,
            "grid_auto_columns": null,
            "margin": null,
            "display": null,
            "left": null
          }
        }
      }
    }
  },
  "cells": [
    {
      "cell_type": "markdown",
      "metadata": {
        "id": "view-in-github",
        "colab_type": "text"
      },
      "source": [
        "<a href=\"https://colab.research.google.com/github/siddsh/Information_Retieval/blob/master/IR.ipynb\" target=\"_parent\"><img src=\"https://colab.research.google.com/assets/colab-badge.svg\" alt=\"Open In Colab\"/></a>"
      ]
    },
    {
      "cell_type": "code",
      "metadata": {
        "id": "D3jd2n-9hc3_",
        "outputId": "723ce977-e067-43e2-e43e-a4e9a998300d",
        "colab": {
          "base_uri": "https://localhost:8080/",
          "height": 503
        }
      },
      "source": [
        "!pip install datasets"
      ],
      "execution_count": 1,
      "outputs": [
        {
          "output_type": "stream",
          "text": [
            "Collecting datasets\n",
            "\u001b[?25l  Downloading https://files.pythonhosted.org/packages/83/7e/8d9e2fd30e3819e6042927d379f3668a0b49fe38b92d5639194808a1d877/datasets-1.0.2-py3-none-any.whl (1.8MB)\n",
            "\u001b[K     |████████████████████████████████| 1.8MB 4.5MB/s \n",
            "\u001b[?25hRequirement already satisfied: dataclasses; python_version < \"3.7\" in /usr/local/lib/python3.6/dist-packages (from datasets) (0.7)\n",
            "Requirement already satisfied: numpy>=1.17 in /usr/local/lib/python3.6/dist-packages (from datasets) (1.18.5)\n",
            "Requirement already satisfied: dill in /usr/local/lib/python3.6/dist-packages (from datasets) (0.3.2)\n",
            "Requirement already satisfied: filelock in /usr/local/lib/python3.6/dist-packages (from datasets) (3.0.12)\n",
            "Requirement already satisfied: pandas in /usr/local/lib/python3.6/dist-packages (from datasets) (1.0.5)\n",
            "Requirement already satisfied: requests>=2.19.0 in /usr/local/lib/python3.6/dist-packages (from datasets) (2.23.0)\n",
            "Collecting pyarrow>=0.17.1\n",
            "\u001b[?25l  Downloading https://files.pythonhosted.org/packages/f3/99/0a605f016121ca314d1469dc9069e4978395bc46fda40f73099d90ad3ba4/pyarrow-1.0.1-cp36-cp36m-manylinux2014_x86_64.whl (17.3MB)\n",
            "\u001b[K     |████████████████████████████████| 17.3MB 174kB/s \n",
            "\u001b[?25hRequirement already satisfied: tqdm>=4.27 in /usr/local/lib/python3.6/dist-packages (from datasets) (4.41.1)\n",
            "Collecting xxhash\n",
            "\u001b[?25l  Downloading https://files.pythonhosted.org/packages/f7/73/826b19f3594756cb1c6c23d2fbd8ca6a77a9cd3b650c9dec5acc85004c38/xxhash-2.0.0-cp36-cp36m-manylinux2010_x86_64.whl (242kB)\n",
            "\u001b[K     |████████████████████████████████| 245kB 48.3MB/s \n",
            "\u001b[?25hRequirement already satisfied: python-dateutil>=2.6.1 in /usr/local/lib/python3.6/dist-packages (from pandas->datasets) (2.8.1)\n",
            "Requirement already satisfied: pytz>=2017.2 in /usr/local/lib/python3.6/dist-packages (from pandas->datasets) (2018.9)\n",
            "Requirement already satisfied: certifi>=2017.4.17 in /usr/local/lib/python3.6/dist-packages (from requests>=2.19.0->datasets) (2020.6.20)\n",
            "Requirement already satisfied: chardet<4,>=3.0.2 in /usr/local/lib/python3.6/dist-packages (from requests>=2.19.0->datasets) (3.0.4)\n",
            "Requirement already satisfied: idna<3,>=2.5 in /usr/local/lib/python3.6/dist-packages (from requests>=2.19.0->datasets) (2.10)\n",
            "Requirement already satisfied: urllib3!=1.25.0,!=1.25.1,<1.26,>=1.21.1 in /usr/local/lib/python3.6/dist-packages (from requests>=2.19.0->datasets) (1.24.3)\n",
            "Requirement already satisfied: six>=1.5 in /usr/local/lib/python3.6/dist-packages (from python-dateutil>=2.6.1->pandas->datasets) (1.15.0)\n",
            "Installing collected packages: pyarrow, xxhash, datasets\n",
            "  Found existing installation: pyarrow 0.14.1\n",
            "    Uninstalling pyarrow-0.14.1:\n",
            "      Successfully uninstalled pyarrow-0.14.1\n",
            "Successfully installed datasets-1.0.2 pyarrow-1.0.1 xxhash-2.0.0\n"
          ],
          "name": "stdout"
        }
      ]
    },
    {
      "cell_type": "code",
      "metadata": {
        "id": "upv2cxhrkIOg",
        "outputId": "12a4876e-5bdb-4503-9725-cbbc3b3c9215",
        "colab": {
          "base_uri": "https://localhost:8080/",
          "height": 35
        }
      },
      "source": [
        "#CHECK IF THE Cuda version is the same as 10.1 if not change the mxnet-cuXXXmkl\n",
        "import torch\n",
        "torch.version.cuda"
      ],
      "execution_count": 3,
      "outputs": [
        {
          "output_type": "execute_result",
          "data": {
            "application/vnd.google.colaboratory.intrinsic+json": {
              "type": "string"
            },
            "text/plain": [
              "'10.1'"
            ]
          },
          "metadata": {
            "tags": []
          },
          "execution_count": 3
        }
      ]
    },
    {
      "cell_type": "code",
      "metadata": {
        "id": "HHPOXSPSiAOc",
        "outputId": "74a798e5-bab5-4226-a82f-c999222eb67f",
        "colab": {
          "base_uri": "https://localhost:8080/",
          "height": 315
        }
      },
      "source": [
        "pip install mxnet-cu101mkl"
      ],
      "execution_count": 2,
      "outputs": [
        {
          "output_type": "stream",
          "text": [
            "Collecting mxnet-cu101mkl\n",
            "\u001b[?25l  Downloading https://files.pythonhosted.org/packages/45/3f/e33e3f92110fa5caba5e9eb052008208a33c1d5faccc7fe5312532e9aa42/mxnet_cu101mkl-1.6.0.post0-py2.py3-none-manylinux1_x86_64.whl (712.3MB)\n",
            "\u001b[K     |████████████████████████████████| 712.3MB 26kB/s \n",
            "\u001b[?25hRequirement already satisfied: requests<3,>=2.20.0 in /usr/local/lib/python3.6/dist-packages (from mxnet-cu101mkl) (2.23.0)\n",
            "Collecting graphviz<0.9.0,>=0.8.1\n",
            "  Downloading https://files.pythonhosted.org/packages/53/39/4ab213673844e0c004bed8a0781a0721a3f6bb23eb8854ee75c236428892/graphviz-0.8.4-py2.py3-none-any.whl\n",
            "Requirement already satisfied: numpy<2.0.0,>1.16.0 in /usr/local/lib/python3.6/dist-packages (from mxnet-cu101mkl) (1.18.5)\n",
            "Requirement already satisfied: chardet<4,>=3.0.2 in /usr/local/lib/python3.6/dist-packages (from requests<3,>=2.20.0->mxnet-cu101mkl) (3.0.4)\n",
            "Requirement already satisfied: certifi>=2017.4.17 in /usr/local/lib/python3.6/dist-packages (from requests<3,>=2.20.0->mxnet-cu101mkl) (2020.6.20)\n",
            "Requirement already satisfied: idna<3,>=2.5 in /usr/local/lib/python3.6/dist-packages (from requests<3,>=2.20.0->mxnet-cu101mkl) (2.10)\n",
            "Requirement already satisfied: urllib3!=1.25.0,!=1.25.1,<1.26,>=1.21.1 in /usr/local/lib/python3.6/dist-packages (from requests<3,>=2.20.0->mxnet-cu101mkl) (1.24.3)\n",
            "Installing collected packages: graphviz, mxnet-cu101mkl\n",
            "  Found existing installation: graphviz 0.10.1\n",
            "    Uninstalling graphviz-0.10.1:\n",
            "      Successfully uninstalled graphviz-0.10.1\n",
            "Successfully installed graphviz-0.8.4 mxnet-cu101mkl-1.6.0.post0\n"
          ],
          "name": "stdout"
        }
      ]
    },
    {
      "cell_type": "code",
      "metadata": {
        "id": "3yKDhhD__J0F",
        "outputId": "21c0e148-afd7-416d-f74e-d3455f59ab5b",
        "colab": {
          "base_uri": "https://localhost:8080/",
          "height": 901
        }
      },
      "source": [
        "!pip install bert_embedding"
      ],
      "execution_count": 11,
      "outputs": [
        {
          "output_type": "stream",
          "text": [
            "Collecting bert_embedding\n",
            "  Downloading https://files.pythonhosted.org/packages/62/85/e0d56e29a055d8b3ba6da6e52afe404f209453057de95b90c01475c3ff75/bert_embedding-1.0.1-py3-none-any.whl\n",
            "Collecting mxnet==1.4.0\n",
            "\u001b[?25l  Downloading https://files.pythonhosted.org/packages/c0/e9/241aadccc4522f99adee5b6043f730d58adb7c001e0a68865a3728c3b4ae/mxnet-1.4.0-py2.py3-none-manylinux1_x86_64.whl (29.6MB)\n",
            "\u001b[K     |████████████████████████████████| 29.6MB 103kB/s \n",
            "\u001b[?25hCollecting gluonnlp==0.6.0\n",
            "\u001b[?25l  Downloading https://files.pythonhosted.org/packages/e2/07/037585c23bccec19ce333b402997d98b09e43cc8d2d86dc810d57249c5ff/gluonnlp-0.6.0.tar.gz (209kB)\n",
            "\u001b[K     |████████████████████████████████| 215kB 51.4MB/s \n",
            "\u001b[?25hCollecting typing==3.6.6\n",
            "  Downloading https://files.pythonhosted.org/packages/4a/bd/eee1157fc2d8514970b345d69cb9975dcd1e42cd7e61146ed841f6e68309/typing-3.6.6-py3-none-any.whl\n",
            "Collecting numpy==1.14.6\n",
            "\u001b[?25l  Downloading https://files.pythonhosted.org/packages/e5/c4/395ebb218053ba44d64935b3729bc88241ec279915e72100c5979db10945/numpy-1.14.6-cp36-cp36m-manylinux1_x86_64.whl (13.8MB)\n",
            "\u001b[K     |████████████████████████████████| 13.8MB 245kB/s \n",
            "\u001b[?25hRequirement already satisfied: graphviz<0.9.0,>=0.8.1 in /usr/local/lib/python3.6/dist-packages (from mxnet==1.4.0->bert_embedding) (0.8.4)\n",
            "Requirement already satisfied: requests>=2.20.0 in /usr/local/lib/python3.6/dist-packages (from mxnet==1.4.0->bert_embedding) (2.23.0)\n",
            "Requirement already satisfied: urllib3!=1.25.0,!=1.25.1,<1.26,>=1.21.1 in /usr/local/lib/python3.6/dist-packages (from requests>=2.20.0->mxnet==1.4.0->bert_embedding) (1.24.3)\n",
            "Requirement already satisfied: idna<3,>=2.5 in /usr/local/lib/python3.6/dist-packages (from requests>=2.20.0->mxnet==1.4.0->bert_embedding) (2.10)\n",
            "Requirement already satisfied: certifi>=2017.4.17 in /usr/local/lib/python3.6/dist-packages (from requests>=2.20.0->mxnet==1.4.0->bert_embedding) (2020.6.20)\n",
            "Requirement already satisfied: chardet<4,>=3.0.2 in /usr/local/lib/python3.6/dist-packages (from requests>=2.20.0->mxnet==1.4.0->bert_embedding) (3.0.4)\n",
            "Building wheels for collected packages: gluonnlp\n",
            "  Building wheel for gluonnlp (setup.py) ... \u001b[?25l\u001b[?25hdone\n",
            "  Created wheel for gluonnlp: filename=gluonnlp-0.6.0-cp36-none-any.whl size=259917 sha256=c67916bad291ff2690135f5b76a98c4c9a28b0d13f17fd715edc35d498a130a0\n",
            "  Stored in directory: /root/.cache/pip/wheels/ff/48/ac/a77c79aa416ba6dd7bf487f2280b0471034f66141617965914\n",
            "Successfully built gluonnlp\n",
            "\u001b[31mERROR: xarray 0.15.1 has requirement numpy>=1.15, but you'll have numpy 1.14.6 which is incompatible.\u001b[0m\n",
            "\u001b[31mERROR: umap-learn 0.4.6 has requirement numpy>=1.17, but you'll have numpy 1.14.6 which is incompatible.\u001b[0m\n",
            "\u001b[31mERROR: tifffile 2020.9.3 has requirement numpy>=1.15.1, but you'll have numpy 1.14.6 which is incompatible.\u001b[0m\n",
            "\u001b[31mERROR: tensorflow 2.3.0 has requirement numpy<1.19.0,>=1.16.0, but you'll have numpy 1.14.6 which is incompatible.\u001b[0m\n",
            "\u001b[31mERROR: spacy 2.2.4 has requirement numpy>=1.15.0, but you'll have numpy 1.14.6 which is incompatible.\u001b[0m\n",
            "\u001b[31mERROR: plotnine 0.6.0 has requirement numpy>=1.16.0, but you'll have numpy 1.14.6 which is incompatible.\u001b[0m\n",
            "\u001b[31mERROR: numba 0.48.0 has requirement numpy>=1.15, but you'll have numpy 1.14.6 which is incompatible.\u001b[0m\n",
            "\u001b[31mERROR: mxnet-cu101mkl 1.6.0.post0 has requirement numpy<2.0.0,>1.16.0, but you'll have numpy 1.14.6 which is incompatible.\u001b[0m\n",
            "\u001b[31mERROR: imgaug 0.2.9 has requirement numpy>=1.15.0, but you'll have numpy 1.14.6 which is incompatible.\u001b[0m\n",
            "\u001b[31mERROR: fbprophet 0.7.1 has requirement numpy>=1.15.4, but you'll have numpy 1.14.6 which is incompatible.\u001b[0m\n",
            "\u001b[31mERROR: fastai 1.0.61 has requirement numpy>=1.15, but you'll have numpy 1.14.6 which is incompatible.\u001b[0m\n",
            "\u001b[31mERROR: datasets 1.0.2 has requirement numpy>=1.17, but you'll have numpy 1.14.6 which is incompatible.\u001b[0m\n",
            "\u001b[31mERROR: datascience 0.10.6 has requirement folium==0.2.1, but you'll have folium 0.8.3 which is incompatible.\u001b[0m\n",
            "\u001b[31mERROR: cvxpy 1.0.31 has requirement numpy>=1.15, but you'll have numpy 1.14.6 which is incompatible.\u001b[0m\n",
            "\u001b[31mERROR: blis 0.4.1 has requirement numpy>=1.15.0, but you'll have numpy 1.14.6 which is incompatible.\u001b[0m\n",
            "\u001b[31mERROR: astropy 4.0.1.post1 has requirement numpy>=1.16, but you'll have numpy 1.14.6 which is incompatible.\u001b[0m\n",
            "\u001b[31mERROR: albumentations 0.1.12 has requirement imgaug<0.2.7,>=0.2.5, but you'll have imgaug 0.2.9 which is incompatible.\u001b[0m\n",
            "Installing collected packages: numpy, mxnet, gluonnlp, typing, bert-embedding\n",
            "  Found existing installation: numpy 1.18.5\n",
            "    Uninstalling numpy-1.18.5:\n",
            "      Successfully uninstalled numpy-1.18.5\n",
            "Successfully installed bert-embedding-1.0.1 gluonnlp-0.6.0 mxnet-1.4.0 numpy-1.14.6 typing-3.6.6\n"
          ],
          "name": "stdout"
        },
        {
          "output_type": "display_data",
          "data": {
            "application/vnd.colab-display-data+json": {
              "pip_warning": {
                "packages": [
                  "mxnet",
                  "numpy",
                  "typing"
                ]
              }
            }
          },
          "metadata": {
            "tags": []
          }
        }
      ]
    },
    {
      "cell_type": "code",
      "metadata": {
        "id": "2YoSZuAWiELL"
      },
      "source": [
        "import mxnet as mx\n",
        "ctx = mx.gpu(0)"
      ],
      "execution_count": 5,
      "outputs": []
    },
    {
      "cell_type": "code",
      "metadata": {
        "id": "QkCa9XxJhSNv",
        "outputId": "22f84ae8-32ec-4395-d205-f964466246cc",
        "colab": {
          "base_uri": "https://localhost:8080/",
          "height": 237,
          "referenced_widgets": [
            "3a19bbce45234e86a7df7085af7b72c4",
            "002c1d032be14220ae02be3b9d4eb0b9",
            "7a44bea79f354fea941da9cf505954a7",
            "0950167662544db98a35c588d0f9172c",
            "15c887fd6b274f08b91a2d48d2986637",
            "323f62fbcb924b22bda7b357bd0c106c",
            "2767f528c0a448789b22a0cb3faf9129",
            "233f72debf2849a190f973cfdeb23559",
            "7b72d7b9ae4342e3bb1f46638e500839",
            "4c38c23d185d4e228d9d12f1a40783db",
            "6086b988df794747880f03c788d7100e",
            "2ee693fffd764be791932ea1629b3bb4",
            "d9ef51525ef0457db8961331442092b1",
            "7edcb736d796469990e90b02b4e58cd0",
            "482868dc8b9d43d082ee17e66bc31864",
            "b377d4f99e344fca9f99a6e6a81c81be",
            "6e659c23a576421094bd8d9421732801",
            "8b2de4721ae142fd800675cfb6abb69f",
            "0527a7e9eb904e56aec819c7095f86b5",
            "3d65ae96a8224161b2ab51f72c806212",
            "4da42d47cd5248eaad5b154bf54df345",
            "910aa42df28549818fa525260c80a1e2",
            "e504d2381e064703b56d4ca050448ded",
            "21ee84132d6e4207a963f824b84ec601",
            "319222d8b2e942cd91421a6f81742302",
            "e8790c28c4c0421b81ead010c3ed9d97",
            "e0c2708b1ed543cc8c1dec5b26576a97",
            "176b5a3980fa43cdabf0890d52febc7b",
            "189326b8cb974dbe9888da41b1594f37",
            "9f3f4f2cca6343e78fd7ebf32b926779",
            "07b85ded4cbb4b668d76f9e581f438c2",
            "bca51846ecf545e1838eb263f9d72d0f",
            "79b2d2c7142b485594aae7ec7be78182",
            "47b753ac89ab428d9ee06d55456a87c2",
            "2efa09bbc9ac49388e7c99045d705605",
            "b7053ab662e9428b966163e2a067c44b",
            "8259f5c797bd4d3e80df2638e93f39ed",
            "a2e9b39e2e744ca0bb15b2336be16e35",
            "e03db37cd77a417bb7781ddcfd7f9a34",
            "dfdd8836729744ecb2cbe7098ad84cb5",
            "5241d653ebf843c8b944eac39940adef",
            "c0b6290e72144b5b81beb004f72b42fa",
            "7dc00462157e48ccab0286cb72970086",
            "92bfe13c1c6847c9a52d554df56a5737",
            "c431f0ff434c4fcca92588e96c01d8c0",
            "0aab6e5ffe074bc894cca1d9a8e34b76",
            "b5cf565aa43446fea2656b71bf179c96",
            "0f420ead3ee94f3c8815cf9ad6841a00"
          ]
        }
      },
      "source": [
        "from datasets import load_dataset\n",
        "\n",
        "dataset = load_dataset(\"aeslc\")"
      ],
      "execution_count": 6,
      "outputs": [
        {
          "output_type": "display_data",
          "data": {
            "application/vnd.jupyter.widget-view+json": {
              "model_id": "3a19bbce45234e86a7df7085af7b72c4",
              "version_minor": 0,
              "version_major": 2
            },
            "text/plain": [
              "HBox(children=(FloatProgress(value=0.0, description='Downloading', max=1454.0, style=ProgressStyle(description…"
            ]
          },
          "metadata": {
            "tags": []
          }
        },
        {
          "output_type": "stream",
          "text": [
            "\n"
          ],
          "name": "stdout"
        },
        {
          "output_type": "display_data",
          "data": {
            "application/vnd.jupyter.widget-view+json": {
              "model_id": "7b72d7b9ae4342e3bb1f46638e500839",
              "version_minor": 0,
              "version_major": 2
            },
            "text/plain": [
              "HBox(children=(FloatProgress(value=0.0, description='Downloading', max=749.0, style=ProgressStyle(description_…"
            ]
          },
          "metadata": {
            "tags": []
          }
        },
        {
          "output_type": "stream",
          "text": [
            "Using custom data configuration default\n"
          ],
          "name": "stderr"
        },
        {
          "output_type": "stream",
          "text": [
            "\n",
            "Downloading and preparing dataset aeslc/default (download: 11.10 MiB, generated: 14.26 MiB, post-processed: Unknown size, total: 25.36 MiB) to /root/.cache/huggingface/datasets/aeslc/default/1.0.0/0f335d7ea7f9ab9e325673a86c6aa0e2cd503c5dbf17d48fddcb02840a92fc96...\n"
          ],
          "name": "stdout"
        },
        {
          "output_type": "display_data",
          "data": {
            "application/vnd.jupyter.widget-view+json": {
              "model_id": "6e659c23a576421094bd8d9421732801",
              "version_minor": 0,
              "version_major": 2
            },
            "text/plain": [
              "HBox(children=(FloatProgress(value=1.0, bar_style='info', description='Downloading', max=1.0, style=ProgressSt…"
            ]
          },
          "metadata": {
            "tags": []
          }
        },
        {
          "output_type": "stream",
          "text": [
            "\n"
          ],
          "name": "stdout"
        },
        {
          "output_type": "display_data",
          "data": {
            "application/vnd.jupyter.widget-view+json": {
              "model_id": "319222d8b2e942cd91421a6f81742302",
              "version_minor": 0,
              "version_major": 2
            },
            "text/plain": [
              "HBox(children=(FloatProgress(value=1.0, bar_style='info', max=1.0), HTML(value='')))"
            ]
          },
          "metadata": {
            "tags": []
          }
        },
        {
          "output_type": "stream",
          "text": [
            "\r"
          ],
          "name": "stdout"
        },
        {
          "output_type": "display_data",
          "data": {
            "application/vnd.jupyter.widget-view+json": {
              "model_id": "79b2d2c7142b485594aae7ec7be78182",
              "version_minor": 0,
              "version_major": 2
            },
            "text/plain": [
              "HBox(children=(FloatProgress(value=1.0, bar_style='info', max=1.0), HTML(value='')))"
            ]
          },
          "metadata": {
            "tags": []
          }
        },
        {
          "output_type": "stream",
          "text": [
            "\r"
          ],
          "name": "stdout"
        },
        {
          "output_type": "display_data",
          "data": {
            "application/vnd.jupyter.widget-view+json": {
              "model_id": "5241d653ebf843c8b944eac39940adef",
              "version_minor": 0,
              "version_major": 2
            },
            "text/plain": [
              "HBox(children=(FloatProgress(value=1.0, bar_style='info', max=1.0), HTML(value='')))"
            ]
          },
          "metadata": {
            "tags": []
          }
        },
        {
          "output_type": "stream",
          "text": [
            "\rDataset aeslc downloaded and prepared to /root/.cache/huggingface/datasets/aeslc/default/1.0.0/0f335d7ea7f9ab9e325673a86c6aa0e2cd503c5dbf17d48fddcb02840a92fc96. Subsequent calls will reuse this data.\n"
          ],
          "name": "stdout"
        }
      ]
    },
    {
      "cell_type": "code",
      "metadata": {
        "id": "q4ehNfbrhUjV",
        "outputId": "dc71dd29-30eb-41c2-d1af-3822755c91c7",
        "colab": {
          "base_uri": "https://localhost:8080/",
          "height": 35
        }
      },
      "source": [
        "#Emails as string\n",
        "s = dataset['train'][:]['email_body']\n",
        "len(s)"
      ],
      "execution_count": 7,
      "outputs": [
        {
          "output_type": "execute_result",
          "data": {
            "text/plain": [
              "14436"
            ]
          },
          "metadata": {
            "tags": []
          },
          "execution_count": 7
        }
      ]
    },
    {
      "cell_type": "code",
      "metadata": {
        "id": "BO7pdnBUhWw6",
        "outputId": "37109e01-8db6-4ba2-c156-501bd30e27a9",
        "colab": {
          "base_uri": "https://localhost:8080/",
          "height": 35
        }
      },
      "source": [
        "#Emails as \n",
        "arr = []\n",
        "for i in range(len(s)):\n",
        "    arr.append([i for i in s[i].split('\\n') if len(i)!=0 ])\n",
        "print(len(arr))"
      ],
      "execution_count": 76,
      "outputs": [
        {
          "output_type": "stream",
          "text": [
            "14436\n"
          ],
          "name": "stdout"
        }
      ]
    },
    {
      "cell_type": "code",
      "metadata": {
        "id": "3GBzPOfGhdn9",
        "outputId": "48eec452-3fb3-4029-9ad6-fd6764ceb2d8",
        "colab": {
          "base_uri": "https://localhost:8080/",
          "height": 89
        }
      },
      "source": [
        "#RUN ON GPU\n",
        "from bert_embedding import BertEmbedding\n",
        "be=BertEmbedding(ctx=ctx)\n",
        "#If no GPU Then run the next line\n",
        "#be=BertEmbedding()"
      ],
      "execution_count": 12,
      "outputs": [
        {
          "output_type": "stream",
          "text": [
            "Vocab file is not found. Downloading.\n",
            "Downloading /root/.mxnet/models/book_corpus_wiki_en_uncased-a6607397.zip from https://apache-mxnet.s3-accelerate.dualstack.amazonaws.com/gluon/dataset/vocab/book_corpus_wiki_en_uncased-a6607397.zip...\n",
            "Downloading /root/.mxnet/models/bert_12_768_12_book_corpus_wiki_en_uncased-75cc780f.zip599aa514-059d-4abc-abc4-13f0d7f6cfeb from https://apache-mxnet.s3-accelerate.dualstack.amazonaws.com/gluon/models/bert_12_768_12_book_corpus_wiki_en_uncased-75cc780f.zip...\n"
          ],
          "name": "stdout"
        }
      ]
    },
    {
      "cell_type": "code",
      "metadata": {
        "id": "7cylW1TnhoJ4"
      },
      "source": [
        "emb = None\n",
        "for email in range(len(arr)):\n",
        "    emb = be(arr[email])\n",
        "    emb = emb\n",
        "    print(emb)\n",
        "    break"
      ],
      "execution_count": null,
      "outputs": []
    },
    {
      "cell_type": "code",
      "metadata": {
        "id": "pcRj92pvqTcS",
        "outputId": "cd101618-7852-47c8-8fdb-c527f4aa18c9",
        "colab": {
          "base_uri": "https://localhost:8080/",
          "height": 1000
        }
      },
      "source": [
        "ad = []\n",
        "for email in range(len(arr)):\n",
        "    printc=True\n",
        "    for i in be(arr[email]):\n",
        "        if email%500==0 and printc:\n",
        "            print(\"Iteration: \", email)\n",
        "            printc=False\n",
        "        try:\n",
        "            ad.append(sum(i[1])/len(i[1]))\n",
        "        except:\n",
        "            pass\n",
        "print(len(ad), len(arr[0])) "
      ],
      "execution_count": 15,
      "outputs": [
        {
          "output_type": "stream",
          "text": [
            "Iteration:  0\n",
            "Iteration:  50\n",
            "Iteration:  100\n",
            "Iteration:  150\n",
            "Iteration:  200\n",
            "Iteration:  250\n",
            "Iteration:  300\n",
            "Iteration:  350\n",
            "Iteration:  400\n",
            "Iteration:  450\n",
            "Iteration:  500\n",
            "Iteration:  550\n",
            "Iteration:  600\n",
            "Iteration:  650\n",
            "Iteration:  700\n",
            "Iteration:  750\n",
            "Iteration:  800\n",
            "Iteration:  850\n",
            "Iteration:  900\n",
            "Iteration:  950\n",
            "Iteration:  1000\n",
            "Iteration:  1050\n",
            "Iteration:  1100\n",
            "Iteration:  1150\n",
            "Iteration:  1200\n",
            "Iteration:  1250\n",
            "Iteration:  1300\n",
            "Iteration:  1350\n",
            "Iteration:  1400\n",
            "Iteration:  1450\n",
            "Iteration:  1500\n",
            "Iteration:  1550\n",
            "Iteration:  1600\n",
            "Iteration:  1650\n",
            "Iteration:  1700\n",
            "Iteration:  1750\n",
            "Iteration:  1800\n",
            "Iteration:  1850\n",
            "Iteration:  1900\n",
            "Iteration:  1950\n",
            "Iteration:  2000\n",
            "Iteration:  2050\n",
            "Iteration:  2100\n",
            "Iteration:  2150\n",
            "Iteration:  2200\n",
            "Iteration:  2250\n",
            "Iteration:  2300\n",
            "Iteration:  2350\n",
            "Iteration:  2400\n",
            "Iteration:  2450\n",
            "Iteration:  2500\n",
            "Iteration:  2550\n",
            "Iteration:  2600\n",
            "Iteration:  2650\n",
            "Iteration:  2700\n",
            "Iteration:  2750\n",
            "Iteration:  2800\n",
            "Iteration:  2850\n",
            "Iteration:  2900\n",
            "Iteration:  2950\n",
            "Iteration:  3000\n",
            "Iteration:  3050\n",
            "Iteration:  3100\n",
            "Iteration:  3150\n",
            "Iteration:  3200\n",
            "Iteration:  3250\n",
            "Iteration:  3300\n",
            "Iteration:  3350\n",
            "Iteration:  3400\n",
            "Iteration:  3450\n",
            "Iteration:  3500\n",
            "Iteration:  3550\n",
            "Iteration:  3600\n",
            "Iteration:  3650\n",
            "Iteration:  3700\n",
            "Iteration:  3750\n",
            "Iteration:  3800\n",
            "Iteration:  3850\n",
            "Iteration:  3900\n",
            "Iteration:  3950\n",
            "Iteration:  4000\n",
            "Iteration:  4050\n",
            "Iteration:  4100\n",
            "Iteration:  4150\n",
            "Iteration:  4200\n",
            "Iteration:  4250\n",
            "Iteration:  4300\n",
            "Iteration:  4350\n",
            "Iteration:  4400\n",
            "Iteration:  4450\n",
            "Iteration:  4500\n",
            "Iteration:  4550\n",
            "Iteration:  4600\n",
            "Iteration:  4650\n",
            "Iteration:  4700\n",
            "Iteration:  4750\n",
            "Iteration:  4800\n",
            "Iteration:  4850\n",
            "Iteration:  4900\n",
            "Iteration:  4950\n",
            "Iteration:  5000\n",
            "Iteration:  5050\n",
            "Iteration:  5100\n",
            "Iteration:  5150\n",
            "Iteration:  5200\n",
            "Iteration:  5250\n",
            "Iteration:  5300\n",
            "Iteration:  5350\n",
            "Iteration:  5400\n",
            "Iteration:  5450\n",
            "Iteration:  5500\n",
            "Iteration:  5550\n",
            "Iteration:  5600\n",
            "Iteration:  5650\n",
            "Iteration:  5700\n",
            "Iteration:  5750\n",
            "Iteration:  5800\n",
            "Iteration:  5850\n",
            "Iteration:  5900\n",
            "Iteration:  5950\n",
            "Iteration:  6000\n",
            "Iteration:  6050\n",
            "Iteration:  6100\n",
            "Iteration:  6150\n",
            "Iteration:  6200\n",
            "Iteration:  6250\n",
            "Iteration:  6300\n",
            "Iteration:  6350\n",
            "Iteration:  6400\n",
            "Iteration:  6450\n",
            "Iteration:  6500\n",
            "Iteration:  6550\n",
            "Iteration:  6600\n",
            "Iteration:  6650\n",
            "Iteration:  6700\n",
            "Iteration:  6750\n",
            "Iteration:  6800\n",
            "Iteration:  6850\n",
            "Iteration:  6900\n",
            "Iteration:  6950\n",
            "Iteration:  7000\n",
            "Iteration:  7050\n",
            "Iteration:  7100\n",
            "Iteration:  7150\n",
            "Iteration:  7200\n",
            "Iteration:  7250\n",
            "Iteration:  7300\n",
            "Iteration:  7350\n",
            "Iteration:  7400\n",
            "Iteration:  7450\n",
            "Iteration:  7500\n",
            "Iteration:  7550\n",
            "Iteration:  7600\n",
            "Iteration:  7650\n",
            "Iteration:  7700\n",
            "Iteration:  7750\n",
            "Iteration:  7800\n",
            "Iteration:  7850\n",
            "Iteration:  7900\n",
            "Iteration:  7950\n",
            "Iteration:  8000\n",
            "Iteration:  8050\n",
            "Iteration:  8100\n",
            "Iteration:  8150\n",
            "Iteration:  8200\n",
            "Iteration:  8250\n",
            "Iteration:  8300\n",
            "Iteration:  8350\n",
            "Iteration:  8400\n",
            "Iteration:  8450\n",
            "Iteration:  8500\n",
            "Iteration:  8550\n",
            "Iteration:  8600\n",
            "Iteration:  8650\n",
            "Iteration:  8700\n",
            "Iteration:  8750\n",
            "Iteration:  8800\n",
            "Iteration:  8850\n",
            "Iteration:  8900\n",
            "Iteration:  8950\n",
            "Iteration:  9000\n",
            "Iteration:  9050\n",
            "Iteration:  9100\n",
            "Iteration:  9150\n",
            "Iteration:  9200\n",
            "Iteration:  9250\n",
            "Iteration:  9300\n",
            "Iteration:  9350\n",
            "Iteration:  9400\n",
            "Iteration:  9450\n",
            "Iteration:  9500\n",
            "Iteration:  9550\n",
            "Iteration:  9600\n",
            "Iteration:  9650\n",
            "Iteration:  9700\n",
            "Iteration:  9750\n",
            "Iteration:  9800\n",
            "Iteration:  9850\n",
            "Iteration:  9900\n",
            "Iteration:  9950\n",
            "Iteration:  10000\n",
            "Iteration:  10050\n",
            "Iteration:  10100\n",
            "Iteration:  10150\n",
            "Iteration:  10200\n",
            "Iteration:  10250\n",
            "Iteration:  10300\n",
            "Iteration:  10350\n",
            "Iteration:  10400\n",
            "Iteration:  10450\n",
            "Iteration:  10500\n",
            "Iteration:  10550\n",
            "Iteration:  10600\n",
            "Iteration:  10650\n",
            "Iteration:  10700\n",
            "Iteration:  10750\n",
            "Iteration:  10800\n",
            "Iteration:  10850\n",
            "Iteration:  10900\n",
            "Iteration:  10950\n",
            "Iteration:  11000\n",
            "Iteration:  11050\n",
            "Iteration:  11100\n",
            "Iteration:  11150\n",
            "Iteration:  11200\n",
            "Iteration:  11250\n",
            "Iteration:  11300\n",
            "Iteration:  11350\n",
            "Iteration:  11400\n",
            "Iteration:  11450\n",
            "Iteration:  11500\n",
            "Iteration:  11550\n",
            "Iteration:  11600\n",
            "Iteration:  11650\n",
            "Iteration:  11700\n",
            "Iteration:  11750\n",
            "Iteration:  11800\n",
            "Iteration:  11850\n",
            "Iteration:  11900\n",
            "Iteration:  11950\n",
            "Iteration:  12000\n",
            "Iteration:  12050\n",
            "Iteration:  12100\n",
            "Iteration:  12150\n",
            "Iteration:  12200\n",
            "Iteration:  12250\n",
            "Iteration:  12300\n",
            "Iteration:  12350\n",
            "Iteration:  12400\n",
            "Iteration:  12450\n",
            "Iteration:  12500\n",
            "Iteration:  12550\n",
            "Iteration:  12600\n",
            "Iteration:  12650\n",
            "Iteration:  12700\n",
            "Iteration:  12750\n",
            "Iteration:  12800\n",
            "Iteration:  12850\n",
            "Iteration:  12900\n",
            "Iteration:  12950\n",
            "Iteration:  13000\n",
            "Iteration:  13050\n",
            "Iteration:  13100\n",
            "Iteration:  13150\n",
            "Iteration:  13200\n",
            "Iteration:  13250\n",
            "Iteration:  13300\n",
            "Iteration:  13350\n",
            "Iteration:  13400\n",
            "Iteration:  13450\n",
            "Iteration:  13500\n",
            "Iteration:  13550\n",
            "Iteration:  13600\n",
            "Iteration:  13650\n",
            "Iteration:  13700\n",
            "Iteration:  13750\n",
            "Iteration:  13800\n",
            "Iteration:  13850\n",
            "Iteration:  13900\n",
            "Iteration:  13950\n",
            "Iteration:  14000\n",
            "Iteration:  14050\n",
            "Iteration:  14100\n",
            "Iteration:  14150\n",
            "Iteration:  14200\n",
            "Iteration:  14250\n",
            "Iteration:  14300\n",
            "Iteration:  14350\n",
            "Iteration:  14400\n",
            "106257 5\n"
          ],
          "name": "stdout"
        }
      ]
    },
    {
      "cell_type": "code",
      "metadata": {
        "id": "YnjVSTJWuMKO",
        "outputId": "e90cfab3-8c1e-4ccc-b03a-d7bee0335077",
        "colab": {
          "base_uri": "https://localhost:8080/",
          "height": 35
        }
      },
      "source": [
        "#COUNT OF SEntences and Email\n",
        "print(len(ad), len(arr)) "
      ],
      "execution_count": 16,
      "outputs": [
        {
          "output_type": "stream",
          "text": [
            "106257 14436\n"
          ],
          "name": "stdout"
        }
      ]
    },
    {
      "cell_type": "code",
      "metadata": {
        "id": "PstB9K-guR-X",
        "outputId": "5f50e6ba-a0cd-4d4f-b865-98b17b92393f",
        "colab": {
          "base_uri": "https://localhost:8080/",
          "height": 35
        }
      },
      "source": [
        "#Count sentences in email corpus\n",
        "l=0\n",
        "for i in arr:\n",
        "    l+=len(i)\n",
        "print(l)"
      ],
      "execution_count": 17,
      "outputs": [
        {
          "output_type": "stream",
          "text": [
            "106257\n"
          ],
          "name": "stdout"
        }
      ]
    },
    {
      "cell_type": "code",
      "metadata": {
        "id": "48qnvHGxujBu"
      },
      "source": [
        "#Save Data to PKL file\n",
        "import pickle\n",
        "\n",
        "with open('Index.pkl', 'wb') as fp:\n",
        "    pickle.dump(ad, fp)    "
      ],
      "execution_count": 22,
      "outputs": []
    },
    {
      "cell_type": "code",
      "metadata": {
        "id": "G4ZbOYZxCj4z",
        "outputId": "9d16527a-ac57-4612-ef38-4ec7136799b9",
        "colab": {
          "base_uri": "https://localhost:8080/",
          "height": 35
        }
      },
      "source": [
        "#Mount Drive\n",
        "from google.colab import drive\n",
        "drive.mount('/content/drive')"
      ],
      "execution_count": 21,
      "outputs": [
        {
          "output_type": "stream",
          "text": [
            "Mounted at /content/drive\n"
          ],
          "name": "stdout"
        }
      ]
    },
    {
      "cell_type": "code",
      "metadata": {
        "id": "5s7hC4bACt4l"
      },
      "source": [
        "#Copy file to Drive\n",
        "!sudo cp \"/content/Index.pkl\" '/content/drive/My Drive/Index.pkl' -f"
      ],
      "execution_count": 39,
      "outputs": []
    },
    {
      "cell_type": "code",
      "metadata": {
        "id": "QAf-HKZnwI56",
        "outputId": "203780c7-4bd5-4f4e-fafb-fb14a646cb62",
        "colab": {
          "base_uri": "https://localhost:8080/",
          "height": 35
        }
      },
      "source": [
        "with open ('/content/drive/My Drive/Index.pkl', 'rb') as fp:\n",
        "    itemlist = pickle.load(fp)\n",
        "len(itemlist)"
      ],
      "execution_count": 91,
      "outputs": [
        {
          "output_type": "execute_result",
          "data": {
            "text/plain": [
              "106257"
            ]
          },
          "metadata": {
            "tags": []
          },
          "execution_count": 91
        }
      ]
    },
    {
      "cell_type": "code",
      "metadata": {
        "id": "IZd6A8dtKi_v"
      },
      "source": [
        "#Check if Index.pkl is correctly loaded\n",
        "assert len([False for i in ad[0] == itemlist[0] if i is False]) ==0"
      ],
      "execution_count": 222,
      "outputs": []
    },
    {
      "cell_type": "code",
      "metadata": {
        "id": "_oK0DcBewTXN",
        "outputId": "7c95014d-23fe-462d-f805-d86d7998c608",
        "colab": {
          "base_uri": "https://localhost:8080/",
          "height": 35
        }
      },
      "source": [
        "l=0 #INDEX THROUGH EVERY SENTENCE\n",
        "email_emb=[] #VEC OF EMAIL\n",
        "for email in arr:\n",
        "    sarr = [] #SENTENCE VECS\n",
        "    for _ in email:\n",
        "        sarr.append(itemlist[l])\n",
        "        l+=1\n",
        "    email_emb.append(sum(sarr)/len(sarr))\n",
        "len(sarr), l"
      ],
      "execution_count": 224,
      "outputs": [
        {
          "output_type": "execute_result",
          "data": {
            "text/plain": [
              "(4, 106257)"
            ]
          },
          "metadata": {
            "tags": []
          },
          "execution_count": 224
        }
      ]
    },
    {
      "cell_type": "code",
      "metadata": {
        "id": "rqAyXhLDHpVh",
        "outputId": "f812f859-08e5-44b4-a3a6-0552d990ae14",
        "colab": {
          "base_uri": "https://localhost:8080/",
          "height": 35
        }
      },
      "source": [
        "len(email_emb), len(arr)"
      ],
      "execution_count": 225,
      "outputs": [
        {
          "output_type": "execute_result",
          "data": {
            "text/plain": [
              "(14436, 14436)"
            ]
          },
          "metadata": {
            "tags": []
          },
          "execution_count": 225
        }
      ]
    },
    {
      "cell_type": "code",
      "metadata": {
        "id": "GWoRVw7fFZ55"
      },
      "source": [
        "#Save Email Embeddings\n",
        "with open('Email_Embeddings.pkl', 'wb') as fp:\n",
        "    pickle.dump(ad, fp) \n",
        "!sudo cp \"/content/Email_Embeddings.pkl\" '/content/drive/My Drive/Email_Embeddings.pkl' -f"
      ],
      "execution_count": 103,
      "outputs": []
    },
    {
      "cell_type": "code",
      "metadata": {
        "id": "pS4o74WQOJHb"
      },
      "source": [
        "import textwrap\n",
        "wrapper = textwrap.TextWrapper(width=180) \n",
        "def wrapp(string):\n",
        "    '''\n",
        "    Print the String by wrapping\n",
        "    '''\n",
        "    string=str(string)\n",
        "    word_list = wrapper.wrap(text=string) \n",
        "  \n",
        "    # Print each line. \n",
        "    for element in word_list: \n",
        "        print(element)\n",
        "\n",
        "def search(query):\n",
        "    '''\n",
        "    Take query and print it\n",
        "    '''\n",
        "    embs = be(query)\n",
        "    q_emb = sum(embs[0][1])/len(embs[0][1])\n",
        "    import numpy as np\n",
        "    res = []\n",
        "    for i in range(len(email_emb)):\n",
        "        res.append(\n",
        "            np.dot(q_emb, email_emb[i])/\n",
        "            (np.linalg.norm(q_emb) * np.linalg.norm(email_emb[i])\n",
        "        )\n",
        "    )\n",
        "    indx = np.argsort(res)[-1:-6:-1]\n",
        "    print(query, \"\\n\\n\")\n",
        "    for i in indx:\n",
        "        wrapp(res[i])\n",
        "        wrapp(dataset['train']['subject_line'][i])\n",
        "        wrapp(s[i])\n",
        "        print()"
      ],
      "execution_count": 226,
      "outputs": []
    },
    {
      "cell_type": "code",
      "metadata": {
        "id": "BTDHH88uYQI7",
        "outputId": "e8fd7d28-2479-4cac-b55b-051f42bb7684",
        "colab": {
          "base_uri": "https://localhost:8080/",
          "height": 1000
        }
      },
      "source": [
        "query = [\"\"\"Apply for this job and i have sent you my resume. Please consider me for this post\"\"\"]\n",
        "search(query)"
      ],
      "execution_count": 227,
      "outputs": [
        {
          "output_type": "stream",
          "text": [
            "['Apply for this job and i have sent you my resume. Please consider me for this post'] \n",
            "\n",
            "\n",
            "0.82568026\n",
            "Penn Career Network\n",
            "Mr. Shankman:  My name is Robert Brown and I am a fellow alumnus of the Wharton School. I noticed that you provided your name on the Penn Career Network as a mentor for other\n",
            "alumni. I have just returned from a sabbatical and am currently seeking to enter the energy industry in Houston now that I have returned stateside. As a person who has achieved a\n",
            "prominent position in the industry in which I am interested, I thought you might be able to help me in my endeavors with some advice. Would it be possible for me to contact you at\n",
            "a convenient time, so that I might be able to ask you a few questions? Please feel free to call me on my cell phone at 832.541.5805 or you can also reach me through e-mail by\n",
            "responding to this e-mail. Thank you for making yourself available to other alumni like myself. I look forward to speaking to you. Regards,\n",
            "\n",
            "0.82326734\n",
            "December Graduates!!!\n",
            "I wanted send you all a short note to congratulate you on the completion of  the program!!! Plus, I wanted to remind you that you have full access to  the career center forever and\n",
            "my services for the next 6 months. After  that you can continue to use my services, although $ is involved. The fee  for alumni is $150 for three sessions. If you are being\n",
            "challenged in the  job market or need some perspective on getting hired, we can have an  initial session for free and after that if we both decide to go further I  will need to\n",
            "charge. In the interest of adding value to the Haas brand, just an FYI this May I  will be completing an 8 month program on Personal Performance Coaching from  the Hudson Institute\n",
            "in Santa Barbara. If you feel the need for fine  tuning your new area of knowledge or competency and want some assistance  finding or applying the fit in your career, let me know\n",
            "if I can help. For those of you I have had the pleasure of working with thank you for the  opportunity, it has truly been a great learning experience for me and  hopefully for you\n",
            "as well. Some parting thoughts:  IF WE DON''T  CREATE OUR OWN  FUTURE, SOMEONE  ELSE WILL FIT US  INTO THEIRS\n",
            "\n",
            "0.8208591\n",
            "University of Houston Law Center\n",
            "Dear Mr. Lay,  I first wanted to thank you for taking the time to read this e-mail. I know that you are extremely busy and receive numerous requests on a daily basis. I have been\n",
            "an employee with Enron for almost two years. I have spent most of my time on the Liquids trading floor as a Risk Manager for the financial crude book. I was recently recruited by\n",
            "Fred Lagrasta to work in his midmarketing group. I am responsible for supporting our originators in New York. My years at Enron have taught me not only the business aspects of the\n",
            "energy industry, but to strive to pursue your dreams and accept nothing but the best from yourself. It has been a dream of mine to attend law school since I was little. II feel\n",
            "like I am at the time in my life that I can sucessfully pursue this dream. I am interested in studying corporate law at the University of Houston Law Center and participating in\n",
            "their part-time program while maintaining my employment with Enron. I recently spoke with Don Schroeder, a physical crude trader here at Enron, who suggested sending you an e-mail\n",
            "asking if you would be so kind as to write a letter of recommendation on my behalf. I would be honored if you would write the university a letter recommending me to their part-time\n",
            "program. I am hoping to make the early decision deadline of November 1st. I understand that you do not know me at all, however I would be more than willing to come visit with you\n",
            "if you had time and/or forward you my resume and performance evaluations. I know that I would represent Enron well by attending the University of Houston. I worked full-time\n",
            "throughout my college career at Texas A&M University to help finance my education. I am a hard worker and take pride in everything that I do. I know that I will be successful in\n",
            "law school as well as excel with my career at Enron. Again, I greatly appreciate you taking the time to read this request and your consideration. I look forward to hearing from you\n",
            "soon. Sincerely,\n",
            "\n",
            "0.818821\n",
            "Employment Candidate\n",
            "Anna:  I would like to fax the resume of Kristina Fisher to you (I do not have a  word version to email). She is the candidate about whom we spoke recently. I have also asked\n",
            "Kristina to visit the website \"www.enroncareers.com\" and  apply through that process. I assume that you are the person who receives  inquiries on the website. Please advise me of\n",
            "your fax number and I can send the resume directly to you. Thanks so much for your interest.\n",
            "\n",
            "0.81773764\n",
            "Redeployment Opportunity - 3 minutes of your time\n",
            "Jeff,  Behind every successful executives career there is at least one break; one time where someone took a chance on them and they proved them right. I am a Sr. Specialist with\n",
            "DealBench. With redeployment looming, I have been told to begin looking within Enron for opportunities. This brings us to this email that I have written you; I am asking you for my\n",
            "chance. I have a Business degree and 4 years of experience with Deloitte Consulting. I have nearly 8 months of experience with DealBench, acting as the product development manager,\n",
            "strategist, marketer, nearly everything. I am flexible, adaptive, intelligent, and quite possibly the hardest worker you have working for you at Enron. True this is a bold\n",
            "statement, but I firmly believe it and since I've got only a few minutes of your time, I better sell hard! I have no ego. I am, after all, only a Sr. Specialist. I haven't\n",
            "transcended into the Manager/Director level where I have seen others stubbornly think they know everything. I am hungry; I love the business world and will do whatever it takes to\n",
            "succeed. I would like to propose myself for an executive-trainee program within your office. At other companies, I have seen this tool effectively used to help ambitious\n",
            "individuals learn invaluable business skills. At Deloitte, the program was a year rotation where Senior Consultants would assist the CEO in whatever they could. I know people that\n",
            "have participated and they have all learned much more than they ever dreamed. The learning's that I would get from a year within your office would help me immensely as I work\n",
            "myself toward the upper echelons of management. Bottom Line: What's in it for you 1)  An excellent member of your team that will help you and your organization succeed 2)  An open\n",
            "channel to the perspective of lower levels within your organization 3)  More ambition in one person than you thought possible  What's in it for me 1)  A once in a lifetime\n",
            "opportunity to learn what it really takes to run a business 2)  Knowledge, knowledge, knowledge  I hope that you will take a few minutes of your time to evaluate this idea. I truly\n",
            "believe it can become a powerful learning tool within Enron like it has at other companies, and I would be honored to be the first person to participate. I wasn't sure if I should\n",
            "write this message (your too busy, you don't know me from Adam, blah, blah), but I decided to take a chance. I hope that you will consider taking a chance on me. Thanks for your\n",
            "time. I have attached my resume for your review.\n",
            "\n"
          ],
          "name": "stdout"
        }
      ]
    }
  ]
}